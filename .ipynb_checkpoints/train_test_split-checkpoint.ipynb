{
 "cells": [
  {
   "cell_type": "markdown",
   "id": "45194777",
   "metadata": {},
   "source": [
    "# Create Training, Validation and Testing Datasets\n",
    "This notebook will split the pre-processed dataset of sentences per book in three distinct sets:\n",
    "1. Training set (~70%): Sentences used to train the models\n",
    "2. Validation set (~20%): Sentences used to estimate the accuracy of each model and for hyperparameter tuning (when appropriate)\n",
    "3. Testing set (~10%): Sentences used to assess the accuracy of the final model after all analysis is complete\n",
    "\n",
    "For each set, I will collect a proportional number of sentences from each book at random."
   ]
  },
  {
   "cell_type": "code",
   "execution_count": 1,
   "id": "7975fc04",
   "metadata": {},
   "outputs": [],
   "source": [
    "# import required libraries\n",
    "import pandas as pd\n",
    "import numpy as np\n",
    "import random\n",
    "import matplotlib.pyplot as plt"
   ]
  },
  {
   "cell_type": "code",
   "execution_count": 2,
   "id": "a3c1a736",
   "metadata": {},
   "outputs": [],
   "source": [
    "# define the path for the processed datasets\n",
    "PATH_PROCESSED = \"data/processed/\""
   ]
  },
  {
   "cell_type": "code",
   "execution_count": 3,
   "id": "476c8276",
   "metadata": {},
   "outputs": [],
   "source": [
    "# define the split (%) per type of dataset\n",
    "TRAIN = 0.7\n",
    "VAL = 0.2\n",
    "TEST = 0.1"
   ]
  },
  {
   "cell_type": "code",
   "execution_count": 4,
   "id": "86723228",
   "metadata": {},
   "outputs": [],
   "source": [
    "# read the dataset with all sentences per book\n",
    "hp_sentences = pd.read_csv(f\"{PATH_PROCESSED}hp_sentences_df.csv\")"
   ]
  },
  {
   "cell_type": "code",
   "execution_count": 5,
   "id": "d448e63c",
   "metadata": {},
   "outputs": [
    {
     "data": {
      "text/html": [
       "<div>\n",
       "<style scoped>\n",
       "    .dataframe tbody tr th:only-of-type {\n",
       "        vertical-align: middle;\n",
       "    }\n",
       "\n",
       "    .dataframe tbody tr th {\n",
       "        vertical-align: top;\n",
       "    }\n",
       "\n",
       "    .dataframe thead th {\n",
       "        text-align: right;\n",
       "    }\n",
       "</style>\n",
       "<table border=\"1\" class=\"dataframe\">\n",
       "  <thead>\n",
       "    <tr style=\"text-align: right;\">\n",
       "      <th></th>\n",
       "      <th>sentence</th>\n",
       "      <th>book</th>\n",
       "    </tr>\n",
       "  </thead>\n",
       "  <tbody>\n",
       "    <tr>\n",
       "      <th>0</th>\n",
       "      <td>/ Mr. and Mrs. Dursley, of number four, Privet...</td>\n",
       "      <td>1</td>\n",
       "    </tr>\n",
       "    <tr>\n",
       "      <th>1</th>\n",
       "      <td>They were the last people you’d expect to be i...</td>\n",
       "      <td>1</td>\n",
       "    </tr>\n",
       "    <tr>\n",
       "      <th>2</th>\n",
       "      <td>Mr. Dursley was the director of a firm called ...</td>\n",
       "      <td>1</td>\n",
       "    </tr>\n",
       "    <tr>\n",
       "      <th>3</th>\n",
       "      <td>He was a big, beefy man with hardly any neck, ...</td>\n",
       "      <td>1</td>\n",
       "    </tr>\n",
       "    <tr>\n",
       "      <th>4</th>\n",
       "      <td>Mrs. Dursley was thin and blonde and had nearl...</td>\n",
       "      <td>1</td>\n",
       "    </tr>\n",
       "  </tbody>\n",
       "</table>\n",
       "</div>"
      ],
      "text/plain": [
       "                                            sentence  book\n",
       "0  / Mr. and Mrs. Dursley, of number four, Privet...     1\n",
       "1  They were the last people you’d expect to be i...     1\n",
       "2  Mr. Dursley was the director of a firm called ...     1\n",
       "3  He was a big, beefy man with hardly any neck, ...     1\n",
       "4  Mrs. Dursley was thin and blonde and had nearl...     1"
      ]
     },
     "execution_count": 5,
     "metadata": {},
     "output_type": "execute_result"
    }
   ],
   "source": [
    "# see the first five records of the dataset\n",
    "hp_sentences.head()"
   ]
  },
  {
   "cell_type": "markdown",
   "id": "c8ac1a47",
   "metadata": {},
   "source": [
    "## Determine Sentences to Pull / Dataset"
   ]
  },
  {
   "cell_type": "code",
   "execution_count": 6,
   "id": "03d1b796",
   "metadata": {},
   "outputs": [
    {
     "name": "stdout",
     "output_type": "stream",
     "text": [
      "5    11912\n",
      "4    10411\n",
      "7     9969\n",
      "6     8221\n",
      "3     6485\n",
      "2     4919\n",
      "1     4442\n",
      "Name: book, dtype: int64\n"
     ]
    }
   ],
   "source": [
    "# count the number of sentences per book\n",
    "book_counts = hp_sentences[\"book\"].value_counts()\n",
    "print(book_counts)"
   ]
  },
  {
   "cell_type": "code",
   "execution_count": 7,
   "id": "27d49e45",
   "metadata": {},
   "outputs": [],
   "source": [
    "# determine number of sentences to pull per book, per dataset\n",
    "\n",
    "# initiate dictionary of counts. Key will be the book number and values will be a list where \n",
    "# [records in train, records in val, records in test]\n",
    "dataset_counts = {}\n",
    "\n",
    "# loop through books\n",
    "for i in range(1, 8):\n",
    "    \n",
    "    # get number of sentences in the book\n",
    "    count = book_counts[i]\n",
    "    \n",
    "    # calculate number of sentences to extract for each dataset\n",
    "    train = int(TRAIN * count)\n",
    "    val = int(VAL * count)\n",
    "    test = count - (train + val)\n",
    "    \n",
    "    # add count per dataset to dictionary\n",
    "    dataset_counts[i] = [train, val, test]"
   ]
  },
  {
   "cell_type": "code",
   "execution_count": 8,
   "id": "189586af",
   "metadata": {},
   "outputs": [
    {
     "data": {
      "text/plain": [
       "{1: [3109, 888, 445],\n",
       " 2: [3443, 983, 493],\n",
       " 3: [4539, 1297, 649],\n",
       " 4: [7287, 2082, 1042],\n",
       " 5: [8338, 2382, 1192],\n",
       " 6: [5754, 1644, 823],\n",
       " 7: [6978, 1993, 998]}"
      ]
     },
     "execution_count": 8,
     "metadata": {},
     "output_type": "execute_result"
    }
   ],
   "source": [
    "dataset_counts"
   ]
  },
  {
   "cell_type": "code",
   "execution_count": 9,
   "id": "0e07ae59",
   "metadata": {},
   "outputs": [],
   "source": [
    "# validate the counts by summing the three datasets for each book\n",
    "for i in range(1, 8):\n",
    "    assert sum(dataset_counts[i]) == book_counts[i], f\"Wrong total count for book {i}\""
   ]
  },
  {
   "cell_type": "code",
   "execution_count": 10,
   "id": "c646aa49",
   "metadata": {},
   "outputs": [],
   "source": [
    "# validate the proportions by making sure they correspond to +/- 1% of target\n",
    "for i in range(1, 8):\n",
    "    count = book_counts[i]\n",
    "    assert abs((dataset_counts[i][0] / count) - TRAIN) <= 0.01, f\"Wrong proportion for book {i} in training set\"\n",
    "    assert abs((dataset_counts[i][1] / count) - VAL) <= 0.01, f\"Wrong proportion for book {i} in validation set\"\n",
    "    assert abs((dataset_counts[i][2] / count) - TEST) <= 0.01, f\"Wrong proportion for book {i} in testing set\""
   ]
  },
  {
   "cell_type": "markdown",
   "id": "47fa2282",
   "metadata": {},
   "source": [
    "## Define Random Datasets "
   ]
  },
  {
   "cell_type": "code",
   "execution_count": 11,
   "id": "0ddece22",
   "metadata": {},
   "outputs": [],
   "source": [
    "# get list of indices in full dataset for each book\n",
    "\n",
    "# initiate dictionary of indices for each book\n",
    "book_indices = {}\n",
    "\n",
    "# iterate through the seven books\n",
    "for i in range(1, 8):\n",
    "    \n",
    "    # add the list of indices for each book to the dictionary\n",
    "    book_indices[i] = hp_sentences[hp_sentences[\"book\"] == i].index.tolist()"
   ]
  },
  {
   "cell_type": "code",
   "execution_count": 12,
   "id": "514d889a",
   "metadata": {},
   "outputs": [],
   "source": [
    "# define random seed\n",
    "random.seed(50)\n",
    "\n",
    "# initiate dictionary of random indices for each dataset, for each book\n",
    "dataset_indices = {}\n",
    "\n",
    "# iterate through the seven books\n",
    "for i in range(1, 8):\n",
    "    \n",
    "    # randomize the order of the indices of the sentences of the book\n",
    "    shuffled_book_indices = book_indices[i]\n",
    "    random.shuffle(shuffled_book_indices)\n",
    "    \n",
    "    # pull the number of random indices required for each dataset\n",
    "    train_indices = shuffled_book_indices[:dataset_counts[i][0]]\n",
    "    val_indices = shuffled_book_indices[dataset_counts[i][0]:dataset_counts[i][0]+dataset_counts[i][1]]\n",
    "    test_indices = shuffled_book_indices[dataset_counts[i][0]+dataset_counts[i][1]:]\n",
    "    \n",
    "    # add the random indices for each dataset to the dictionary\n",
    "    dataset_indices[i] = [train_indices, val_indices, test_indices]"
   ]
  },
  {
   "cell_type": "code",
   "execution_count": 13,
   "id": "42f4bc32",
   "metadata": {},
   "outputs": [],
   "source": [
    "# validate the number of random indices pulled for each book and each dataset\n",
    "for book_i in range(1, 8):\n",
    "    for dataset_i in range(3):\n",
    "        assert len(dataset_indices[book_i][dataset_i]) == dataset_counts[book_i][dataset_i], f\"Wrong number of indices for book {book_i} in dataset {dataset_i}\""
   ]
  },
  {
   "cell_type": "code",
   "execution_count": 14,
   "id": "1906a9d1",
   "metadata": {},
   "outputs": [],
   "source": [
    "# initiate set for all indices\n",
    "all_indices = set()\n",
    "\n",
    "# iterate through the seven books, the three types of datasets\n",
    "for book_i in range(1, 8):\n",
    "    for dataset_i in range(3):\n",
    "        \n",
    "        # add the indices for each dataset from each book to the set\n",
    "        all_indices.update(dataset_indices[book_i][dataset_i])\n",
    "\n",
    "# validate that there is no duplication between all the lists of indices\n",
    "assert len(all_indices) == len(hp_sentences), \"Duplicates present in list of indices\"\n",
    "\n",
    "# validate that all indices are being used in the lists\n",
    "assert sorted(list(all_indices)) == hp_sentences.index.to_list(), \"Not all indices are being used\""
   ]
  },
  {
   "cell_type": "code",
   "execution_count": 15,
   "id": "6d8579da",
   "metadata": {},
   "outputs": [],
   "source": [
    "# initiate the lists for the indices of the three types of datasets\n",
    "train_indices = list()\n",
    "val_indices = list()\n",
    "test_indices = list()\n",
    "\n",
    "# iterate through the seven books\n",
    "for book_i in range(1, 8):\n",
    "    \n",
    "    # add the random indices to the list of indices for each type of dataset\n",
    "    train_indices.extend(dataset_indices[book_i][0])\n",
    "    val_indices.extend(dataset_indices[book_i][1])\n",
    "    test_indices.extend(dataset_indices[book_i][2])"
   ]
  },
  {
   "cell_type": "code",
   "execution_count": 16,
   "id": "c27ee96b",
   "metadata": {},
   "outputs": [],
   "source": [
    "# create the training, validation and testing datasets based on the list of random indices pulled in the previous step\n",
    "train_df = hp_sentences.iloc[train_indices]\n",
    "val_df = hp_sentences.iloc[val_indices]\n",
    "test_df = hp_sentences.iloc[test_indices]"
   ]
  },
  {
   "cell_type": "markdown",
   "id": "80b385c3",
   "metadata": {},
   "source": [
    "## Validate Datasets\n",
    "While extensive validation has been done throughout the process of creating the datasets, two last checks will be completed:\n",
    "1. Each dataset represents the appropriate proportion of the full dataset (e.g., training set is ~70% of total data)\n",
    "2. The distribution of sentences from each book in each dataset matches the distribution of sentences in the full dataset"
   ]
  },
  {
   "cell_type": "code",
   "execution_count": 17,
   "id": "df63d665",
   "metadata": {},
   "outputs": [
    {
     "data": {
      "image/png": "[encoded data removed]",
      "text/plain": [
       "<Figure size 432x288 with 1 Axes>"
      ]
     },
     "metadata": {
      "needs_background": "light"
     },
     "output_type": "display_data"
    }
   ],
   "source": [
    "# plot the actual vs expected proportions of sentences in each dataset\n",
    "total_count = len(hp_sentences)\n",
    "\n",
    "labels = [\"Training\", \"Validation\", \"Testing\"]\n",
    "expected_props = [TRAIN, VAL, TEST]\n",
    "actual_props = [len(train_df) / total_count, len(val_df) / total_count, len(test_df) / total_count]\n",
    "\n",
    "x = np.arange(len(labels))\n",
    "width = 0.35\n",
    "\n",
    "fig, ax = plt.subplots()\n",
    "rects1 = ax.bar(x - width/2, expected_props, width, label = \"Expected\")\n",
    "rects2 = ax.bar(x + width/2, actual_props, width, label = \"Actual\")\n",
    "\n",
    "ax.set_ylabel('Proportion')\n",
    "ax.set_title('Expected vs Actual Proportions of Counts per Dataset')\n",
    "plt.xticks(x, labels)\n",
    "ax.legend()\n",
    "\n",
    "ax.bar_label(rects1)\n",
    "ax.bar_label(rects2)\n",
    "\n",
    "fig.tight_layout()\n",
    "\n",
    "plt.show()"
   ]
  },
  {
   "cell_type": "code",
   "execution_count": 18,
   "id": "f0575df3",
   "metadata": {},
   "outputs": [
    {
     "data": {
      "image/png": "[encoded data removed]",
      "text/plain": [
       "<Figure size 432x288 with 1 Axes>"
      ]
     },
     "metadata": {
      "needs_background": "light"
     },
     "output_type": "display_data"
    }
   ],
   "source": [
    "# plot the distribution of sentences from each book in the training set against the distribution of sentences in the full dataset\n",
    "total_count = len(hp_sentences)\n",
    "total_book_counts = hp_sentences[\"book\"].value_counts()\n",
    "\n",
    "train_count = len(train_df)\n",
    "train_book_counts = train_df[\"book\"].value_counts()\n",
    "\n",
    "labels = [\"Book 1\", \"Book 2\", \"Book 3\", \"Book 4\", \"Book 5\", \"Book 6\", \"Book 7\"]\n",
    "\n",
    "total_book_props = [\n",
    "    total_book_counts[1] / total_count,\n",
    "    total_book_counts[2] / total_count,\n",
    "    total_book_counts[3] / total_count,\n",
    "    total_book_counts[4] / total_count,\n",
    "    total_book_counts[5] / total_count,\n",
    "    total_book_counts[6] / total_count,\n",
    "    total_book_counts[7] / total_count\n",
    "]\n",
    "\n",
    "train_book_props = [\n",
    "    train_book_counts[1] / train_count,\n",
    "    train_book_counts[2] / train_count,\n",
    "    train_book_counts[3] / train_count,\n",
    "    train_book_counts[4] / train_count,\n",
    "    train_book_counts[5] / train_count,\n",
    "    train_book_counts[6] / train_count,\n",
    "    train_book_counts[7] / train_count\n",
    "]\n",
    "\n",
    "x = np.arange(len(labels))\n",
    "width = 0.35\n",
    "\n",
    "fig, ax = plt.subplots()\n",
    "rects1 = ax.bar(x - width/2, total_book_props, width, label = \"Total\")\n",
    "rects2 = ax.bar(x + width/2, train_book_props, width, label = \"Training\")\n",
    "\n",
    "ax.set_ylabel('Proportion')\n",
    "ax.set_xlabel('Book')\n",
    "ax.set_title('Training Set Book Distribution')\n",
    "plt.xticks(x, labels)\n",
    "ax.legend()\n",
    "\n",
    "fig.tight_layout()\n",
    "\n",
    "plt.show()"
   ]
  },
  {
   "cell_type": "code",
   "execution_count": 19,
   "id": "fc55d338",
   "metadata": {},
   "outputs": [
    {
     "data": {
      "image/png": "[encoded data removed]",
      "text/plain": [
       "<Figure size 432x288 with 1 Axes>"
      ]
     },
     "metadata": {
      "needs_background": "light"
     },
     "output_type": "display_data"
    }
   ],
   "source": [
    "# plot the distribution of sentences from each book in the validation set against the distribution of sentences in the full dataset\n",
    "total_count = len(hp_sentences)\n",
    "total_book_counts = hp_sentences[\"book\"].value_counts()\n",
    "\n",
    "val_count = len(val_df)\n",
    "val_book_counts = val_df[\"book\"].value_counts()\n",
    "\n",
    "labels = [\"Book 1\", \"Book 2\", \"Book 3\", \"Book 4\", \"Book 5\", \"Book 6\", \"Book 7\"]\n",
    "\n",
    "total_book_props = [\n",
    "    total_book_counts[1] / total_count,\n",
    "    total_book_counts[2] / total_count,\n",
    "    total_book_counts[3] / total_count,\n",
    "    total_book_counts[4] / total_count,\n",
    "    total_book_counts[5] / total_count,\n",
    "    total_book_counts[6] / total_count,\n",
    "    total_book_counts[7] / total_count\n",
    "]\n",
    "\n",
    "val_book_props = [\n",
    "    val_book_counts[1] / val_count,\n",
    "    val_book_counts[2] / val_count,\n",
    "    val_book_counts[3] / val_count,\n",
    "    val_book_counts[4] / val_count,\n",
    "    val_book_counts[5] / val_count,\n",
    "    val_book_counts[6] / val_count,\n",
    "    val_book_counts[7] / val_count\n",
    "]\n",
    "\n",
    "x = np.arange(len(labels))\n",
    "width = 0.35\n",
    "\n",
    "fig, ax = plt.subplots()\n",
    "rects1 = ax.bar(x - width/2, total_book_props, width, label = \"Total\")\n",
    "rects2 = ax.bar(x + width/2, train_book_props, width, label = \"Validation\")\n",
    "\n",
    "ax.set_ylabel('Proportion')\n",
    "ax.set_xlabel('Book')\n",
    "ax.set_title('Validation Set Book Distribution')\n",
    "plt.xticks(x, labels)\n",
    "ax.legend()\n",
    "\n",
    "fig.tight_layout()\n",
    "\n",
    "plt.show()"
   ]
  },
  {
   "cell_type": "code",
   "execution_count": 20,
   "id": "ad7c5fd7",
   "metadata": {
    "scrolled": true
   },
   "outputs": [
    {
     "data": {
      "image/png": "[encoded data removed]",
      "text/plain": [
       "<Figure size 432x288 with 1 Axes>"
      ]
     },
     "metadata": {
      "needs_background": "light"
     },
     "output_type": "display_data"
    }
   ],
   "source": [
    "# plot the distribution of sentences from each book in the testing set against the distribution of sentences in the full dataset\n",
    "total_book_counts = hp_sentences[\"book\"].value_counts()\n",
    "\n",
    "test_count = len(test_df)\n",
    "test_book_counts = test_df[\"book\"].value_counts()\n",
    "\n",
    "labels = [\"Book 1\", \"Book 2\", \"Book 3\", \"Book 4\", \"Book 5\", \"Book 6\", \"Book 7\"]\n",
    "\n",
    "total_book_props = [\n",
    "    total_book_counts[1] / total_count,\n",
    "    total_book_counts[2] / total_count,\n",
    "    total_book_counts[3] / total_count,\n",
    "    total_book_counts[4] / total_count,\n",
    "    total_book_counts[5] / total_count,\n",
    "    total_book_counts[6] / total_count,\n",
    "    total_book_counts[7] / total_count\n",
    "]\n",
    "\n",
    "test_book_props = [\n",
    "    test_book_counts[1] / test_count,\n",
    "    test_book_counts[2] / test_count,\n",
    "    test_book_counts[3] / test_count,\n",
    "    test_book_counts[4] / test_count,\n",
    "    test_book_counts[5] / test_count,\n",
    "    test_book_counts[6] / test_count,\n",
    "    test_book_counts[7] / test_count\n",
    "]\n",
    "\n",
    "x = np.arange(len(labels))\n",
    "width = 0.35\n",
    "\n",
    "fig, ax = plt.subplots()\n",
    "rects1 = ax.bar(x - width/2, total_book_props, width, label = \"Total\")\n",
    "rects2 = ax.bar(x + width/2, train_book_props, width, label = \"Testing\")\n",
    "\n",
    "ax.set_ylabel('Proportion')\n",
    "ax.set_xlabel('Book')\n",
    "ax.set_title('Testing Set Book Distribution')\n",
    "plt.xticks(x, labels)\n",
    "ax.legend()\n",
    "\n",
    "fig.tight_layout()\n",
    "\n",
    "plt.show()"
   ]
  },
  {
   "cell_type": "markdown",
   "id": "3eaa51cf",
   "metadata": {},
   "source": [
    "As shown in the four charts above, the proportions of sentences in the datasets match their expected proportions. As expected, the distribution of sentences in the training, validation and testing datasets are the same even, if the number of sentences is different. The distribution of sentences in each dataset also matches the distribution from the full dataset.\n",
    "\n",
    "With all validation done, I can now download the datasets for future use."
   ]
  },
  {
   "cell_type": "markdown",
   "id": "ac8ebe5d",
   "metadata": {},
   "source": [
    "## Downloading the Datasets"
   ]
  },
  {
   "cell_type": "code",
   "execution_count": 21,
   "id": "47f3dccd",
   "metadata": {},
   "outputs": [],
   "source": [
    "# download datasets in repository\n",
    "train_df.to_csv(f\"{PATH_PROCESSED}training_df.csv\", index=False)\n",
    "val_df.to_csv(f\"{PATH_PROCESSED}validation_df.csv\", index=False)\n",
    "test_df.to_csv(f\"{PATH_PROCESSED}testing_df.csv\", index=False)"
   ]
  },
  {
   "cell_type": "code",
   "execution_count": 22,
   "id": "4d457ef6",
   "metadata": {},
   "outputs": [
    {
     "data": {
      "text/html": [
       "<div>\n",
       "<style scoped>\n",
       "    .dataframe tbody tr th:only-of-type {\n",
       "        vertical-align: middle;\n",
       "    }\n",
       "\n",
       "    .dataframe tbody tr th {\n",
       "        vertical-align: top;\n",
       "    }\n",
       "\n",
       "    .dataframe thead th {\n",
       "        text-align: right;\n",
       "    }\n",
       "</style>\n",
       "<table border=\"1\" class=\"dataframe\">\n",
       "  <thead>\n",
       "    <tr style=\"text-align: right;\">\n",
       "      <th></th>\n",
       "      <th>sentence</th>\n",
       "      <th>book</th>\n",
       "    </tr>\n",
       "  </thead>\n",
       "  <tbody>\n",
       "    <tr>\n",
       "      <th>0</th>\n",
       "      <td>A wild-looking old woman dressed all in green ...</td>\n",
       "      <td>1</td>\n",
       "    </tr>\n",
       "    <tr>\n",
       "      <th>1</th>\n",
       "      <td>Harry was thinking about this time yesterday a...</td>\n",
       "      <td>1</td>\n",
       "    </tr>\n",
       "    <tr>\n",
       "      <th>2</th>\n",
       "      <td>He had been down at Hagrid’s hut, helping him ...</td>\n",
       "      <td>1</td>\n",
       "    </tr>\n",
       "    <tr>\n",
       "      <th>3</th>\n",
       "      <td>“We’re looking for a big, old-fashioned one — ...</td>\n",
       "      <td>1</td>\n",
       "    </tr>\n",
       "    <tr>\n",
       "      <th>4</th>\n",
       "      <td>I forbid you to tell the boy anything!” A brav...</td>\n",
       "      <td>1</td>\n",
       "    </tr>\n",
       "  </tbody>\n",
       "</table>\n",
       "</div>"
      ],
      "text/plain": [
       "                                            sentence  book\n",
       "0  A wild-looking old woman dressed all in green ...     1\n",
       "1  Harry was thinking about this time yesterday a...     1\n",
       "2  He had been down at Hagrid’s hut, helping him ...     1\n",
       "3  “We’re looking for a big, old-fashioned one — ...     1\n",
       "4  I forbid you to tell the boy anything!” A brav...     1"
      ]
     },
     "execution_count": 22,
     "metadata": {},
     "output_type": "execute_result"
    }
   ],
   "source": [
    "pd.read_csv(f\"{PATH_PROCESSED}training_df.csv\").head()"
   ]
  },
  {
   "cell_type": "code",
   "execution_count": 23,
   "id": "6705bd01",
   "metadata": {},
   "outputs": [
    {
     "data": {
      "text/html": [
       "<div>\n",
       "<style scoped>\n",
       "    .dataframe tbody tr th:only-of-type {\n",
       "        vertical-align: middle;\n",
       "    }\n",
       "\n",
       "    .dataframe tbody tr th {\n",
       "        vertical-align: top;\n",
       "    }\n",
       "\n",
       "    .dataframe thead th {\n",
       "        text-align: right;\n",
       "    }\n",
       "</style>\n",
       "<table border=\"1\" class=\"dataframe\">\n",
       "  <thead>\n",
       "    <tr style=\"text-align: right;\">\n",
       "      <th></th>\n",
       "      <th>sentence</th>\n",
       "      <th>book</th>\n",
       "    </tr>\n",
       "  </thead>\n",
       "  <tbody>\n",
       "    <tr>\n",
       "      <th>0</th>\n",
       "      <td>“She obviously makes more of an effort if you’...</td>\n",
       "      <td>1</td>\n",
       "    </tr>\n",
       "    <tr>\n",
       "      <th>1</th>\n",
       "      <td>We’ve eaten all our food and you still seem to...</td>\n",
       "      <td>1</td>\n",
       "    </tr>\n",
       "    <tr>\n",
       "      <th>2</th>\n",
       "      <td>Please cheer up, Hagrid, we saved the Stone, i...</td>\n",
       "      <td>1</td>\n",
       "    </tr>\n",
       "    <tr>\n",
       "      <th>3</th>\n",
       "      <td>He gave his father a sharp tap on the head wit...</td>\n",
       "      <td>1</td>\n",
       "    </tr>\n",
       "    <tr>\n",
       "      <th>4</th>\n",
       "      <td>He kept threatening to tell her what really bi...</td>\n",
       "      <td>1</td>\n",
       "    </tr>\n",
       "  </tbody>\n",
       "</table>\n",
       "</div>"
      ],
      "text/plain": [
       "                                            sentence  book\n",
       "0  “She obviously makes more of an effort if you’...     1\n",
       "1  We’ve eaten all our food and you still seem to...     1\n",
       "2  Please cheer up, Hagrid, we saved the Stone, i...     1\n",
       "3  He gave his father a sharp tap on the head wit...     1\n",
       "4  He kept threatening to tell her what really bi...     1"
      ]
     },
     "execution_count": 23,
     "metadata": {},
     "output_type": "execute_result"
    }
   ],
   "source": [
    "pd.read_csv(f\"{PATH_PROCESSED}validation_df.csv\").head()"
   ]
  },
  {
   "cell_type": "code",
   "execution_count": 24,
   "id": "a43cefc3",
   "metadata": {},
   "outputs": [
    {
     "data": {
      "text/html": [
       "<div>\n",
       "<style scoped>\n",
       "    .dataframe tbody tr th:only-of-type {\n",
       "        vertical-align: middle;\n",
       "    }\n",
       "\n",
       "    .dataframe tbody tr th {\n",
       "        vertical-align: top;\n",
       "    }\n",
       "\n",
       "    .dataframe thead th {\n",
       "        text-align: right;\n",
       "    }\n",
       "</style>\n",
       "<table border=\"1\" class=\"dataframe\">\n",
       "  <thead>\n",
       "    <tr style=\"text-align: right;\">\n",
       "      <th></th>\n",
       "      <th>sentence</th>\n",
       "      <th>book</th>\n",
       "    </tr>\n",
       "  </thead>\n",
       "  <tbody>\n",
       "    <tr>\n",
       "      <th>0</th>\n",
       "      <td>Excuse me, I’m a prefect!” “How could a troll ...</td>\n",
       "      <td>1</td>\n",
       "    </tr>\n",
       "    <tr>\n",
       "      <th>1</th>\n",
       "      <td>Harry wasn’t sure he could explain.</td>\n",
       "      <td>1</td>\n",
       "    </tr>\n",
       "    <tr>\n",
       "      <th>2</th>\n",
       "      <td>There was a tabby cat standing on the corner o...</td>\n",
       "      <td>1</td>\n",
       "    </tr>\n",
       "    <tr>\n",
       "      <th>3</th>\n",
       "      <td>Peeves threw the chalk into a bin, which clang...</td>\n",
       "      <td>1</td>\n",
       "    </tr>\n",
       "    <tr>\n",
       "      <th>4</th>\n",
       "      <td>It didn’t so much as quiver when a car door sl...</td>\n",
       "      <td>1</td>\n",
       "    </tr>\n",
       "  </tbody>\n",
       "</table>\n",
       "</div>"
      ],
      "text/plain": [
       "                                            sentence  book\n",
       "0  Excuse me, I’m a prefect!” “How could a troll ...     1\n",
       "1                Harry wasn’t sure he could explain.     1\n",
       "2  There was a tabby cat standing on the corner o...     1\n",
       "3  Peeves threw the chalk into a bin, which clang...     1\n",
       "4  It didn’t so much as quiver when a car door sl...     1"
      ]
     },
     "execution_count": 24,
     "metadata": {},
     "output_type": "execute_result"
    }
   ],
   "source": [
    "pd.read_csv(f\"{PATH_PROCESSED}testing_df.csv\").head()"
   ]
  }
 ],
 "metadata": {
  "kernelspec": {
   "display_name": "Python 3",
   "language": "python",
   "name": "python3"
  },
  "language_info": {
   "codemirror_mode": {
    "name": "ipython",
    "version": 3
   },
   "file_extension": ".py",
   "mimetype": "text/x-python",
   "name": "python",
   "nbconvert_exporter": "python",
   "pygments_lexer": "ipython3",
   "version": "3.8.8"
  }
 },
 "nbformat": 4,
 "nbformat_minor": 5
}
