{
 "cells": [
  {
   "cell_type": "markdown",
   "id": "935ff793",
   "metadata": {},
   "source": [
    "# Model 1 - Custom Naive Bayes Model"
   ]
  },
  {
   "cell_type": "markdown",
   "id": "e365f18d",
   "metadata": {},
   "source": [
    "The first model I will train on the training data is a custom naive bayes model that was taught in the DeepLearning.AI NLP specialization. I will restrain myself from looking at the provided code and instead, I will try to code this model based solely on the theory. After this model, I will compare the accuracy and performance with two models from the SciKit Learn library to decide on a final model."
   ]
  },
  {
   "cell_type": "code",
   "execution_count": 1,
   "id": "1bf74236",
   "metadata": {},
   "outputs": [],
   "source": [
    "# import required libraries\n",
    "import pandas as pd\n",
    "import numpy as np\n",
    "import random\n",
    "\n",
    "import nltk\n",
    "from nltk.tokenize import word_tokenize\n",
    "from nltk.stem import PorterStemmer\n",
    "from nltk.corpus import stopwords\n",
    "import string"
   ]
  },
  {
   "cell_type": "code",
   "execution_count": 2,
   "id": "4c239932",
   "metadata": {},
   "outputs": [],
   "source": [
    "PATH = \"data/processed/\""
   ]
  },
  {
   "cell_type": "code",
   "execution_count": 3,
   "id": "e54a88b8",
   "metadata": {},
   "outputs": [],
   "source": [
    "random.seed(50)"
   ]
  },
  {
   "cell_type": "code",
   "execution_count": 4,
   "id": "3acf1bfa",
   "metadata": {},
   "outputs": [],
   "source": [
    "hp_sentences = pd.read_csv(f\"{PATH}training_df.csv\")"
   ]
  },
  {
   "cell_type": "code",
   "execution_count": 5,
   "id": "ed632a6c",
   "metadata": {},
   "outputs": [
    {
     "data": {
      "text/html": [
       "<div>\n",
       "<style scoped>\n",
       "    .dataframe tbody tr th:only-of-type {\n",
       "        vertical-align: middle;\n",
       "    }\n",
       "\n",
       "    .dataframe tbody tr th {\n",
       "        vertical-align: top;\n",
       "    }\n",
       "\n",
       "    .dataframe thead th {\n",
       "        text-align: right;\n",
       "    }\n",
       "</style>\n",
       "<table border=\"1\" class=\"dataframe\">\n",
       "  <thead>\n",
       "    <tr style=\"text-align: right;\">\n",
       "      <th></th>\n",
       "      <th>sentence</th>\n",
       "      <th>book</th>\n",
       "    </tr>\n",
       "  </thead>\n",
       "  <tbody>\n",
       "    <tr>\n",
       "      <th>0</th>\n",
       "      <td>A wild-looking old woman dressed all in green ...</td>\n",
       "      <td>1</td>\n",
       "    </tr>\n",
       "    <tr>\n",
       "      <th>1</th>\n",
       "      <td>Harry was thinking about this time yesterday a...</td>\n",
       "      <td>1</td>\n",
       "    </tr>\n",
       "    <tr>\n",
       "      <th>2</th>\n",
       "      <td>He had been down at Hagrid’s hut, helping him ...</td>\n",
       "      <td>1</td>\n",
       "    </tr>\n",
       "    <tr>\n",
       "      <th>3</th>\n",
       "      <td>“We’re looking for a big, old-fashioned one — ...</td>\n",
       "      <td>1</td>\n",
       "    </tr>\n",
       "    <tr>\n",
       "      <th>4</th>\n",
       "      <td>I forbid you to tell the boy anything!” A brav...</td>\n",
       "      <td>1</td>\n",
       "    </tr>\n",
       "  </tbody>\n",
       "</table>\n",
       "</div>"
      ],
      "text/plain": [
       "                                            sentence  book\n",
       "0  A wild-looking old woman dressed all in green ...     1\n",
       "1  Harry was thinking about this time yesterday a...     1\n",
       "2  He had been down at Hagrid’s hut, helping him ...     1\n",
       "3  “We’re looking for a big, old-fashioned one — ...     1\n",
       "4  I forbid you to tell the boy anything!” A brav...     1"
      ]
     },
     "execution_count": 5,
     "metadata": {},
     "output_type": "execute_result"
    }
   ],
   "source": [
    "hp_sentences.head()"
   ]
  },
  {
   "cell_type": "markdown",
   "id": "c42f68a6",
   "metadata": {},
   "source": [
    "## Pre-Process Sentences\n",
    "The first step is to pre-process all the sentences by completing the following tasks:\n",
    "1. Lowercase every word\n",
    "2. Remove punctuation\n",
    "3. Remove digits\n",
    "4. Tokenize the sentence\n",
    "5. Remove stop words\n",
    "6. Stem each word"
   ]
  },
  {
   "cell_type": "code",
   "execution_count": 6,
   "id": "ecf2ffaf",
   "metadata": {},
   "outputs": [],
   "source": [
    "def process_sentence (txt):\n",
    "    \"\"\"\n",
    "    Returns the processed version of the sentence in a list.\n",
    "    \n",
    "        Parameters:\n",
    "            sentence (str): A sentence in the form of a string\n",
    "            \n",
    "        Returns:\n",
    "            processed_sentence (list of str): A list of the processed tokens that make up the sentence\n",
    "    \"\"\"\n",
    "    \n",
    "    # lowercase every word\n",
    "    txt_lower = txt.lower()\n",
    "    \n",
    "    # remove punctuation and digits\n",
    "    txt_punc_digit = \"\"\n",
    "    for char in txt_lower:\n",
    "        if (char not in string.punctuation + \"“’”—\") and (char.isdigit() == False):\n",
    "            txt_punc_digit += char\n",
    "            \n",
    "    # tokenize the sentence\n",
    "    txt_token = word_tokenize(txt_punc_digit)\n",
    "    \n",
    "    # remove stop words and stem each word\n",
    "    stemmer = PorterStemmer()\n",
    "    txt_processed = []\n",
    "    for token in txt_token:\n",
    "        if (token not in stopwords.words('english')):\n",
    "            txt_processed.append(stemmer.stem(token))\n",
    "            \n",
    "    return txt_processed"
   ]
  },
  {
   "cell_type": "code",
   "execution_count": 7,
   "id": "c40b6919",
   "metadata": {
    "scrolled": true
   },
   "outputs": [
    {
     "name": "stdout",
     "output_type": "stream",
     "text": [
      "Sentence #1:\n",
      "Wormy was here last weekend, I thought he seemed down, but that was probably the news about the McKinnons; I cried all evening when I heard.\n",
      "['wormi', 'last', 'weekend', 'thought', 'seem', 'probabl', 'news', 'mckinnon', 'cri', 'even', 'heard'] \n",
      "\n",
      "\n",
      "Sentence #2:\n",
      "“I don’t care ... I’ll breathe freely again when this tournament’s over, and that’s not until June.\n",
      "['dont', 'care', 'ill', 'breath', 'freeli', 'tournament', 'that', 'june'] \n",
      "\n",
      "\n",
      "Sentence #3:\n",
      "If only Arthur could have got us cars from the Ministry again ... but Fudge wouldn’t let him borrow so much as an empty ink bottle these days... How Muggles can stand traveling without magic ...” But the great black dog gave a joyful bark and gamboled around them, snapping at pigeons, and chasing its own tail.\n",
      "['arthur', 'could', 'got', 'us', 'car', 'ministri', 'fudg', 'wouldnt', 'let', 'borrow', 'much', 'empti', 'ink', 'bottl', 'day', 'muggl', 'stand', 'travel', 'without', 'magic', 'great', 'black', 'dog', 'gave', 'joy', 'bark', 'gambol', 'around', 'snap', 'pigeon', 'chase', 'tail'] \n",
      "\n",
      "\n",
      "Sentence #4:\n",
      "“You need to lie down.\n",
      "['need', 'lie'] \n",
      "\n",
      "\n",
      "Sentence #5:\n",
      "“Look sharp, Tom,” said Slughorn, turning around and finding him still present.\n",
      "['look', 'sharp', 'tom', 'said', 'slughorn', 'turn', 'around', 'find', 'still', 'present'] \n",
      "\n",
      "\n",
      "Sentence #6:\n",
      "They spread their books out in the shade of the beech tree and sat down while Ron talked them through his  first save of the match for what felt like the dozenth time.\n",
      "['spread', 'book', 'shade', 'beech', 'tree', 'sat', 'ron', 'talk', 'first', 'save', 'match', 'felt', 'like', 'dozenth', 'time'] \n",
      "\n",
      "\n",
      "Sentence #7:\n",
      "“But I booked the field!” said Wood, positively spitting with rage.\n",
      "['book', 'field', 'said', 'wood', 'posit', 'spit', 'rage'] \n",
      "\n",
      "\n",
      "Sentence #8:\n",
      "’ They were the same age as we are now.\n",
      "['age'] \n",
      "\n",
      "\n",
      "Sentence #9:\n",
      "“Pointed his wand at me,” Dudley mumbled.\n",
      "['point', 'wand', 'dudley', 'mumbl'] \n",
      "\n",
      "\n",
      "Sentence #10:\n",
      "... C’mon, move in a bit, yeh can pat ’em if yeh want ... give ’em a few o’ these sugar lumps.\n",
      "['cmon', 'move', 'bit', 'yeh', 'pat', 'em', 'yeh', 'want', 'give', 'em', 'sugar', 'lump'] \n",
      "\n",
      "\n",
      "Sentence #11:\n",
      "“Isn’t she with you?” “She lingered in that charming little garden to say hello to the gnomes, such a glorious infestation!\n",
      "['isnt', 'linger', 'charm', 'littl', 'garden', 'say', 'hello', 'gnome', 'gloriou', 'infest'] \n",
      "\n",
      "\n",
      "Sentence #12:\n",
      "“It’s nearly eleven — the match — ” Harry raced up to Gryffindor Tower, collected his Nimbus Two Thousand, and joined the large crowd swarming across the grounds, but his mind was still in the castle along with the bodiless voice, and as he pulled on his scarlet robes in the locker room, his only comfort was that everyone was now outside to watch the game.\n",
      "['nearli', 'eleven', 'match', 'harri', 'race', 'gryffindor', 'tower', 'collect', 'nimbu', 'two', 'thousand', 'join', 'larg', 'crowd', 'swarm', 'across', 'ground', 'mind', 'still', 'castl', 'along', 'bodiless', 'voic', 'pull', 'scarlet', 'robe', 'locker', 'room', 'comfort', 'everyon', 'outsid', 'watch', 'game'] \n",
      "\n",
      "\n",
      "Sentence #13:\n",
      "He sat quite still, anger still surging through him, listening to the frantic thumping of his heart.\n",
      "['sat', 'quit', 'still', 'anger', 'still', 'surg', 'listen', 'frantic', 'thump', 'heart'] \n",
      "\n",
      "\n",
      "Sentence #14:\n",
      "“Yes, first floor, second door on the right, Dai Llewellyn ward.” “Thank you,” said Mrs. Weasley.\n",
      "['ye', 'first', 'floor', 'second', 'door', 'right', 'dai', 'llewellyn', 'ward', 'thank', 'said', 'mr', 'weasley'] \n",
      "\n",
      "\n",
      "Sentence #15:\n",
      "Justin Finch-Fletchley was lying on the floor, rigid and cold, a look of shock frozen on his face, his eyes staring blankly at the ceiling.\n",
      "['justin', 'finchfletchley', 'lie', 'floor', 'rigid', 'cold', 'look', 'shock', 'frozen', 'face', 'eye', 'stare', 'blankli', 'ceil'] \n",
      "\n",
      "\n",
      "Sentence #16:\n",
      "The three of them ran for it; at the door of the boys’ dormitory Harry looked back.\n",
      "['three', 'ran', 'door', 'boy', 'dormitori', 'harri', 'look', 'back'] \n",
      "\n",
      "\n",
      "Sentence #17:\n",
      "“We’ll save our news till tomorrow, shall we?” said Harry.\n",
      "['well', 'save', 'news', 'till', 'tomorrow', 'shall', 'said', 'harri'] \n",
      "\n",
      "\n",
      "Sentence #18:\n",
      "He looked after everything else on the grounds, after all — “Yeh’re goin’ ter win,” Hagrid growled, patting Harry’s shoulder again, so that Harry actually felt himself sink a couple of inches into the soft ground.\n",
      "['look', 'everyth', 'els', 'ground', 'yehr', 'goin', 'ter', 'win', 'hagrid', 'growl', 'pat', 'harri', 'shoulder', 'harri', 'actual', 'felt', 'sink', 'coupl', 'inch', 'soft', 'ground'] \n",
      "\n",
      "\n",
      "Sentence #19:\n",
      "“Well, it was you, really, who gave me the idea, Harry,” she said.\n",
      "['well', 'realli', 'gave', 'idea', 'harri', 'said'] \n",
      "\n",
      "\n",
      "Sentence #20:\n",
      "If Harry Potter goes back to Hogwarts, he will be in mortal danger.” “Why?” said Harry in surprise.\n",
      "['harri', 'potter', 'goe', 'back', 'hogwart', 'mortal', 'danger', 'said', 'harri', 'surpris'] \n",
      "\n",
      "\n"
     ]
    }
   ],
   "source": [
    "# validate the preprocessing function on 20 random sentences\n",
    "\n",
    "# generate a list of 20 indices from the dataframe\n",
    "indices = random.sample(list(hp_sentences.index), 20)\n",
    "\n",
    "# iterate through the random indices\n",
    "for i, index in enumerate(indices):\n",
    "    \n",
    "    # print the raw sentence and its processed version\n",
    "    raw_sentence = hp_sentences[\"sentence\"].iloc[index]\n",
    "    print(f\"Sentence #{i+1}:\")\n",
    "    print(raw_sentence) \n",
    "    print(process_sentence(raw_sentence), \"\\n\\n\")"
   ]
  },
  {
   "cell_type": "markdown",
   "id": "b4ed1840",
   "metadata": {},
   "source": [
    "## Create Frequency Dictionary\n",
    "The next step is to create a frequency dictionary that shows how many times each word appears in each book."
   ]
  },
  {
   "cell_type": "code",
   "execution_count": 13,
   "id": "3b77556b",
   "metadata": {},
   "outputs": [],
   "source": [
    "def create_freq_dict (df, process_sentence=process_sentence):\n",
    "    \"\"\"\n",
    "    Creates a frequency dictionary based on the sentences and the book in which they appear.\n",
    "    \n",
    "        Parameters:\n",
    "            df (dataframe): dataframe with at least a sentence and book column\n",
    "            \n",
    "        Returns:\n",
    "            freq_dict (dict): dictionary with the number of times each word appears in each book\n",
    "    \"\"\"\n",
    "\n",
    "    # initiate dictionary that will hold the word frequencies and number of words per book\n",
    "    freq_dict = {}\n",
    "    book_counts = {}\n",
    "    \n",
    "    # iterate through the rows in the dataframe\n",
    "    for i in df.index:\n",
    "        \n",
    "        # store the book number and processed sentence for the row\n",
    "        book_num = df[\"book\"].iloc[i]\n",
    "        sentence = process_sentence(df[\"sentence\"].iloc[i])\n",
    "        \n",
    "        # iterate through the processed tokens for the row\n",
    "        for token in sentence:\n",
    "            # add 1 to count of words in book\n",
    "            book_counts[book_num] = book_counts.get(book_num, 0) + 1\n",
    "            \n",
    "            # add 1 to the existing frequency count for the word or add it to the dictionary if not already there\n",
    "            freq_dict[(token, book_num)] = freq_dict.get((token, book_num), 0) + 1\n",
    "        \n",
    "    return freq_dict, book_counts"
   ]
  },
  {
   "cell_type": "code",
   "execution_count": 14,
   "id": "91f9dd18",
   "metadata": {},
   "outputs": [],
   "source": [
    "# store the frequency dictionary and book counts\n",
    "freq,book_counts = create_freq_dict(hp_sentences)"
   ]
  },
  {
   "cell_type": "code",
   "execution_count": 39,
   "id": "a14b1341",
   "metadata": {},
   "outputs": [],
   "source": [
    "def predict_book (sentence, process_sentence=process_sentence):\n",
    "\n",
    "    tokens = process_sentence(sentence)\n",
    "\n",
    "    prob_books = {}\n",
    "\n",
    "    for book in range(1, 8):\n",
    "\n",
    "        total_sentences = len(hp_sentences)\n",
    "        book_sentences = len(hp_sentences[hp_sentences[\"book\"] == book])\n",
    "\n",
    "        prob_books[book] = book_sentences / total_sentences\n",
    "\n",
    "        for token in tokens:\n",
    "\n",
    "            token_book_prob = freq.get((token, book), 0) / book_counts[book]\n",
    "\n",
    "            prob_books[book] *= token_book_prob\n",
    "\n",
    "    return max(prob_books, key=prob_books.get)"
   ]
  },
  {
   "cell_type": "code",
   "execution_count": 40,
   "id": "563a855c",
   "metadata": {},
   "outputs": [
    {
     "data": {
      "text/html": [
       "<div>\n",
       "<style scoped>\n",
       "    .dataframe tbody tr th:only-of-type {\n",
       "        vertical-align: middle;\n",
       "    }\n",
       "\n",
       "    .dataframe tbody tr th {\n",
       "        vertical-align: top;\n",
       "    }\n",
       "\n",
       "    .dataframe thead th {\n",
       "        text-align: right;\n",
       "    }\n",
       "</style>\n",
       "<table border=\"1\" class=\"dataframe\">\n",
       "  <thead>\n",
       "    <tr style=\"text-align: right;\">\n",
       "      <th></th>\n",
       "      <th>sentence</th>\n",
       "      <th>book</th>\n",
       "    </tr>\n",
       "  </thead>\n",
       "  <tbody>\n",
       "    <tr>\n",
       "      <th>11723</th>\n",
       "      <td>Ron looked as though he was suffering some sor...</td>\n",
       "      <td>4</td>\n",
       "    </tr>\n",
       "    <tr>\n",
       "      <th>32778</th>\n",
       "      <td>“Alecto, Amycus’s sister, teaches Muggle Studi...</td>\n",
       "      <td>7</td>\n",
       "    </tr>\n",
       "    <tr>\n",
       "      <th>3461</th>\n",
       "      <td>“A memory,” said Riddle quietly.</td>\n",
       "      <td>2</td>\n",
       "    </tr>\n",
       "    <tr>\n",
       "      <th>15793</th>\n",
       "      <td>“There’s a Common Welsh Green over there, the ...</td>\n",
       "      <td>4</td>\n",
       "    </tr>\n",
       "    <tr>\n",
       "      <th>37952</th>\n",
       "      <td>“Don’t worry, Dumbledore,” he said coolly.</td>\n",
       "      <td>7</td>\n",
       "    </tr>\n",
       "    <tr>\n",
       "      <th>...</th>\n",
       "      <td>...</td>\n",
       "      <td>...</td>\n",
       "    </tr>\n",
       "    <tr>\n",
       "      <th>14709</th>\n",
       "      <td>There was a great scraping and banging as all ...</td>\n",
       "      <td>4</td>\n",
       "    </tr>\n",
       "    <tr>\n",
       "      <th>9554</th>\n",
       "      <td>“For ... for some things ...” He would have li...</td>\n",
       "      <td>3</td>\n",
       "    </tr>\n",
       "    <tr>\n",
       "      <th>7031</th>\n",
       "      <td>...” Harry stared up into the grave face and f...</td>\n",
       "      <td>3</td>\n",
       "    </tr>\n",
       "    <tr>\n",
       "      <th>28842</th>\n",
       "      <td>Meanwhile, Lavender kept sidling up to Harry t...</td>\n",
       "      <td>6</td>\n",
       "    </tr>\n",
       "    <tr>\n",
       "      <th>7880</th>\n",
       "      <td>“Everyone thought Sirius killed Peter,” said L...</td>\n",
       "      <td>3</td>\n",
       "    </tr>\n",
       "  </tbody>\n",
       "</table>\n",
       "<p>100 rows × 2 columns</p>\n",
       "</div>"
      ],
      "text/plain": [
       "                                                sentence  book\n",
       "11723  Ron looked as though he was suffering some sor...     4\n",
       "32778  “Alecto, Amycus’s sister, teaches Muggle Studi...     7\n",
       "3461                    “A memory,” said Riddle quietly.     2\n",
       "15793  “There’s a Common Welsh Green over there, the ...     4\n",
       "37952         “Don’t worry, Dumbledore,” he said coolly.     7\n",
       "...                                                  ...   ...\n",
       "14709  There was a great scraping and banging as all ...     4\n",
       "9554   “For ... for some things ...” He would have li...     3\n",
       "7031   ...” Harry stared up into the grave face and f...     3\n",
       "28842  Meanwhile, Lavender kept sidling up to Harry t...     6\n",
       "7880   “Everyone thought Sirius killed Peter,” said L...     3\n",
       "\n",
       "[100 rows x 2 columns]"
      ]
     },
     "execution_count": 40,
     "metadata": {},
     "output_type": "execute_result"
    }
   ],
   "source": [
    "indices = random.sample(list(hp_sentences.index), 100)\n",
    "\n",
    "test_subset = hp_sentences.iloc[indices]\n",
    "test_subset"
   ]
  },
  {
   "cell_type": "code",
   "execution_count": 41,
   "id": "853bc991",
   "metadata": {},
   "outputs": [
    {
     "name": "stderr",
     "output_type": "stream",
     "text": [
      "<ipython-input-41-741d0515faa7>:1: SettingWithCopyWarning: \n",
      "A value is trying to be set on a copy of a slice from a DataFrame.\n",
      "Try using .loc[row_indexer,col_indexer] = value instead\n",
      "\n",
      "See the caveats in the documentation: https://pandas.pydata.org/pandas-docs/stable/user_guide/indexing.html#returning-a-view-versus-a-copy\n",
      "  test_subset[\"prediction\"] = test_subset[\"sentence\"].apply(predict_book)\n"
     ]
    }
   ],
   "source": [
    "test_subset[\"prediction\"] = test_subset[\"sentence\"].apply(predict_book)"
   ]
  },
  {
   "cell_type": "code",
   "execution_count": 43,
   "id": "adc6e412",
   "metadata": {},
   "outputs": [
    {
     "data": {
      "text/plain": [
       "0.65"
      ]
     },
     "execution_count": 43,
     "metadata": {},
     "output_type": "execute_result"
    }
   ],
   "source": [
    "len(test_subset[test_subset[\"book\"] == test_subset[\"prediction\"]]) / 100"
   ]
  }
 ],
 "metadata": {
  "kernelspec": {
   "display_name": "Python 3",
   "language": "python",
   "name": "python3"
  },
  "language_info": {
   "codemirror_mode": {
    "name": "ipython",
    "version": 3
   },
   "file_extension": ".py",
   "mimetype": "text/x-python",
   "name": "python",
   "nbconvert_exporter": "python",
   "pygments_lexer": "ipython3",
   "version": "3.8.8"
  }
 },
 "nbformat": 4,
 "nbformat_minor": 5
}
